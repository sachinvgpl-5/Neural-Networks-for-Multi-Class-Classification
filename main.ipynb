{
 "cells": [
  {
   "cell_type": "markdown",
   "metadata": {
    "colab_type": "text",
    "id": "zN5dbievwen6"
   },
   "source": [
    "\n",
    "## 1. Implementation a of single-layer Neural Network"
   ]
  },
  {
   "cell_type": "code",
   "execution_count": 1,
   "metadata": {
    "colab": {},
    "colab_type": "code",
    "id": "S97BxeH7weoE"
   },
   "outputs": [
    {
     "name": "stderr",
     "output_type": "stream",
     "text": [
      "Using TensorFlow backend.\n"
     ]
    }
   ],
   "source": [
    "import numpy as np\n",
    "import pandas as pd\n",
    "import matplotlib.pyplot as plt\n",
    "from sklearn import metrics\n",
    "from util_scripts.util_mnist_reader import load_mnist\n",
    "\n",
    "import keras\n",
    "from keras.models import Sequential\n",
    "from keras.layers import Dense, Dropout, Activation, Flatten, Conv2D, MaxPooling2D\n",
    "from keras.optimizers import SGD\n",
    "from keras.utils.vis_utils import plot_model\n",
    "import seaborn as sn\n",
    "\n"
   ]
  },
  {
   "cell_type": "code",
   "execution_count": 2,
   "metadata": {
    "colab": {},
    "colab_type": "code",
    "id": "Sqshi4F6weoO"
   },
   "outputs": [],
   "source": [
    "X_train, Y_train = load_mnist(\"util_scripts/data/fashion\", kind='train')\n",
    "X_test, Y_test = load_mnist(\"util_scripts/data/fashion\", kind='t10k')"
   ]
  },
  {
   "cell_type": "code",
   "execution_count": 3,
   "metadata": {
    "colab": {
     "base_uri": "https://localhost:8080/",
     "height": 85
    },
    "colab_type": "code",
    "id": "RiILRFtwweoU",
    "outputId": "378374de-526b-4f30-8a5d-fc4320b6f5d6"
   },
   "outputs": [
    {
     "name": "stdout",
     "output_type": "stream",
     "text": [
      "Training data shape: (60000, 784)\n",
      "Training result shape: (60000,)\n",
      "Testing data shape: (10000, 784)\n",
      "Testing result shape: (10000,)\n"
     ]
    }
   ],
   "source": [
    "#Shape of Training data\n",
    "print(\"Training data shape:\", X_train.shape)\n",
    "print(\"Training result shape:\", Y_train.shape)\n",
    "print(\"Testing data shape:\", X_test.shape)\n",
    "print(\"Testing result shape:\", Y_test.shape)"
   ]
  },
  {
   "cell_type": "code",
   "execution_count": 4,
   "metadata": {
    "colab": {},
    "colab_type": "code",
    "id": "w7uVEq1_weoj"
   },
   "outputs": [],
   "source": [
    "#Defining X1 and Y1\n",
    "X1 = np.array(X_train)/255.0\n",
    "Y_data = np.array(Y_train)\n",
    "Y1 = np.array([np.eye(10)[each] for each in Y_data])\n",
    "\n",
    "#Defining X_test_1 and Y_test_1\n",
    "X_test_1 = np.array(X_test)/255.0\n",
    "Y_test_data = np.array(Y_test)\n",
    "Y_test_1 = np.array([np.eye(10)[each] for each in Y_test_data])"
   ]
  },
  {
   "cell_type": "code",
   "execution_count": 5,
   "metadata": {
    "colab": {
     "base_uri": "https://localhost:8080/",
     "height": 286
    },
    "colab_type": "code",
    "id": "5PhbMOUlweoq",
    "outputId": "97bfb390-a6bc-49a2-965e-e0ca0ccb8a36"
   },
   "outputs": [
    {
     "data": {
      "text/plain": [
       "<matplotlib.image.AxesImage at 0x1c754440a08>"
      ]
     },
     "execution_count": 5,
     "metadata": {},
     "output_type": "execute_result"
    },
    {
     "data": {
      "image/png": "[encoded data removed]",
      "text/plain": [
       "<Figure size 432x288 with 1 Axes>"
      ]
     },
     "metadata": {
      "needs_background": "light"
     },
     "output_type": "display_data"
    }
   ],
   "source": [
    "#Checking the value of an input\n",
    "plt.imshow(X1[0].reshape(28,28))"
   ]
  },
  {
   "cell_type": "code",
   "execution_count": 6,
   "metadata": {
    "colab": {},
    "colab_type": "code",
    "id": "O4JLFqrJweou"
   },
   "outputs": [],
   "source": [
    "def initialize_weights():\n",
    "    \n",
    "    #Defining initial Weights-1\n",
    "    W1 = np.random.rand(784, 342)*0.01\n",
    "\n",
    "    #Defining initial Bias-1\n",
    "    b1 = np.zeros((1, 342))\n",
    "    \n",
    "    #Defining initial Weights-2 \n",
    "    W2 = np.random.rand(342, 10)*0.01\n",
    "\n",
    "    #Defining initial Bias-1\n",
    "    b2 = np.zeros((1, 10))\n",
    "    \n",
    "    \n",
    "    return W1, b1, W2, b2"
   ]
  },
  {
   "cell_type": "code",
   "execution_count": 7,
   "metadata": {
    "colab": {},
    "colab_type": "code",
    "id": "gIfcuep3weo4"
   },
   "outputs": [],
   "source": [
    "#softmax function\n",
    "def softmax(X):\n",
    "    return np.array([[np.exp(i)/np.sum(np.exp(each)) for i in each] for each in X])"
   ]
  },
  {
   "cell_type": "code",
   "execution_count": 8,
   "metadata": {
    "colab": {},
    "colab_type": "code",
    "id": "0E_MmlAlweo9"
   },
   "outputs": [],
   "source": [
    "#Calculating the Cross-Entropy Loss L = -1 * sum(y*logA2)\n",
    "def CrossEntropyLossFunc(Y, A2):\n",
    "    A2 = A2 + 0.0000001 #to avoid the log of 0 error\n",
    "    return -1 * np.sum(np.multiply(Y, np.log(A2)))/Y.shape[0]  \n",
    "    "
   ]
  },
  {
   "cell_type": "code",
   "execution_count": 9,
   "metadata": {
    "colab": {},
    "colab_type": "code",
    "id": "aOtzrrkYwepA"
   },
   "outputs": [],
   "source": [
    "#Sigmoid Function\n",
    "def sigmoid(x):\n",
    "    return 1/(1+(np.exp(-x)))"
   ]
  },
  {
   "cell_type": "code",
   "execution_count": 10,
   "metadata": {
    "colab": {},
    "colab_type": "code",
    "id": "F1JbHVmswepD"
   },
   "outputs": [],
   "source": [
    "#Defining the feed forward function\n",
    "def FeedForward(X, Y, W1, b1, W2, b2):\n",
    "    \n",
    "    #Z1 = X*W1 + b1\n",
    "    Z1 = np.dot(X, W1) + b1\n",
    "    \n",
    "    #Applying Sigmoid as the first activation function\n",
    "    A1 = sigmoid(Z1)\n",
    "    \n",
    "    #Z2 = A1*W2 + b2\n",
    "    Z2 = np.dot(A1, W2) + b2\n",
    "    \n",
    "    #Applying Softmax as the second activation function\n",
    "    A2 = softmax(Z2)\n",
    "    \n",
    "    L = CrossEntropyLossFunc(Y, A2)\n",
    "    \n",
    "    return A1, A2, W1, b1, W2, b2, L"
   ]
  },
  {
   "cell_type": "code",
   "execution_count": 11,
   "metadata": {
    "colab": {},
    "colab_type": "code",
    "id": "k3oFVQQrwepG"
   },
   "outputs": [],
   "source": [
    "def BackPropagation(learning_rate, X, Y, A1, A2, W1, b1, W2, b2, L):\n",
    "    #We need to find the back propagation values for delta(weight) and delta(bias)\n",
    "    dZ2 = A2 - Y\n",
    "    dZ2 /= dZ2.shape[0]\n",
    "    dW2 = np.dot(A1.T, dZ2)\n",
    "    db2 = np.sum(dZ2, axis= 0, keepdims = True)#Summing to get the appropriate shape of the matrix\n",
    "    dZ1 = np.dot(dZ2, W2.T)\n",
    "    dW1 = np.dot(X.T,dZ1)\n",
    "    db1 = np.sum(dZ1, axis=0, keepdims=True)    #Summing to get the appropriate shape of the matrix\n",
    "    \n",
    "    W2 = W2 - learning_rate*(dW2)\n",
    "    W1 = W1 - learning_rate*(dW1)\n",
    "    b2 = b2 - learning_rate*(db2)\n",
    "    b1 = b1 - learning_rate*(db1)\n",
    "    return W2, b2, W1, b1"
   ]
  },
  {
   "cell_type": "code",
   "execution_count": null,
   "metadata": {
    "colab": {
     "base_uri": "https://localhost:8080/",
     "height": 613
    },
    "colab_type": "code",
    "id": "E11WivThwepJ",
    "outputId": "44075221-b11a-4b21-8486-aaa93ef1a219"
   },
   "outputs": [],
   "source": [
    "epochs = 150\n",
    "learning_rate = 0.28\n",
    "W1, b1, W2, b2 = initialize_weights()\n",
    "loss = []\n",
    "accuracy = []\n",
    "val_accuracy = []\n",
    "val_loss = []\n",
    "for epoch in range(epochs):\n",
    "    A1, A2, W1, b1, W2, b2, L = FeedForward(X1, Y1, W1, b1, W2, b2)\n",
    "    \n",
    "    #using the testing data for validation\n",
    "    A1_val, A2_val, W1_val, b1_val, W2_val, b2_val, L_val = FeedForward(X_test_1, Y_test_1, W1, b1, W2, b2)\n",
    "\n",
    "\n",
    "    W2, b2, W1, b1 = BackPropagation(learning_rate, X1, Y1, A1, A2, W1, b1, W2, b2, L)   \n",
    "    \n",
    "    loss.append(L)\n",
    "    prediction = np.argmax(A2, axis = 1)\n",
    "    accuracy.append(np.mean(prediction == Y_data))\n",
    "\n",
    "    val_loss.append(L_val)\n",
    "    val_prediction = np.argmax(A2_val, axis = 1)\n",
    "    val_accuracy.append(np.mean(val_prediction == Y_test_data))\n",
    "    \n",
    "#plot Cross-Entropy Loss vs Epoch data    \n",
    "plt.plot(loss)\n",
    "plt.plot(val_loss)\n",
    "plt.title('Loss VS Epoch')\n",
    "plt.xlabel('Epoch')\n",
    "plt.ylabel('Loss')\n",
    "plt.legend(['Training Loss','Validation Loss'], loc = 'upper left')\n",
    "plt.show()\n",
    "\n",
    "#plot Accuracy vs Epoch data\n",
    "plt.plot(accuracy)\n",
    "plt.plot(val_accuracy)\n",
    "plt.title('Accuracy VS Epoch')\n",
    "plt.xlabel('Epoch')\n",
    "plt.ylabel('Accuracy')\n",
    "plt.legend(['Training Accuracy','Validation Accuracy'], loc = 'upper left')\n",
    "plt.show()"
   ]
  },
  {
   "cell_type": "code",
   "execution_count": null,
   "metadata": {
    "colab": {
     "base_uri": "https://localhost:8080/",
     "height": 306
    },
    "colab_type": "code",
    "id": "mXifHTcXwepN",
    "outputId": "101b6c24-c1b3-4caf-ff25-7c5a1728672e"
   },
   "outputs": [],
   "source": [
    "#Testing the hyperparameters on test data\n",
    "\n",
    "A1_test, A2_test, W1, b1, W2, b2, L_test = FeedForward(X1, Y1, W1, b1, W2, b2)\n",
    "\n",
    "prediction_test = np.argmax(A2_test, axis = 1)\n",
    "Accuracy = np.mean(prediction_test == Y_data)\n",
    "print(\"Accuracy:\")\n",
    "print(Accuracy)\n",
    "print(\"Loss:\")\n",
    "print(L_test)\n",
    "\n",
    "confusion_matrix = metrics.confusion_matrix(y_true=prediction_test, y_pred=prediction)\n",
    "print(\"Confusion Matrix:\")\n",
    "print(confusion_matrix)\n",
    "print('\\n')"
   ]
  },
  {
   "cell_type": "code",
   "execution_count": null,
   "metadata": {
    "colab": {
     "base_uri": "https://localhost:8080/",
     "height": 296
    },
    "colab_type": "code",
    "id": "t4qg2uOrVQ0K",
    "outputId": "47b2d997-d4f0-432d-9a4b-e3f72b7791d6"
   },
   "outputs": [],
   "source": [
    "df_cm = pd.DataFrame(confusion_matrix, range(10), range(10))\n",
    "sn.set(font_scale=1.4)\n",
    "sn.heatmap(df_cm, annot_kws={\"size\": 16})# font size"
   ]
  },
  {
   "cell_type": "markdown",
   "metadata": {
    "colab_type": "text",
    "id": "bdaAsDQ0wepR"
   },
   "source": [
    "## 2. Multi-layer Neural Network Using Keras"
   ]
  },
  {
   "cell_type": "code",
   "execution_count": null,
   "metadata": {
    "colab": {
     "base_uri": "https://localhost:8080/",
     "height": 1000
    },
    "colab_type": "code",
    "id": "ArFcVVixwepT",
    "outputId": "486b6337-bed4-445b-bc58-2f45c5c247c7",
    "scrolled": false
   },
   "outputs": [],
   "source": [
    "model = Sequential()\n",
    "model.add(Dense(300, activation='sigmoid', input_dim=784))\n",
    "model.add(Dropout(0.5))\n",
    "model.add(Dense(150, activation='sigmoid'))\n",
    "model.add(Dropout(0.5))\n",
    "model.add(Dense(64, activation='relu'))\n",
    "\n",
    "model.add(Dense(10, activation='softmax'))\n",
    "model.compile(optimizer='rmsprop',\n",
    "              loss='categorical_crossentropy',\n",
    "              metrics=['accuracy'])\n",
    "\n",
    "#using Stochastic Gradient Descent\n",
    "sgd = SGD(lr=0.35)\n",
    "model.compile(loss='categorical_crossentropy',\n",
    "              optimizer=sgd,\n",
    "              metrics=['accuracy'])\n",
    "\n",
    "res=model.fit(X1, Y1,\n",
    "          validation_split=0.10,\n",
    "          epochs=60,\n",
    "          batch_size=100)\n",
    "\n",
    "\n",
    "# Training Loss vs Validation Loss\n",
    "plt.plot(res.history['loss'])\n",
    "plt.plot(res.history['val_loss'])\n",
    "plt.title('model loss')\n",
    "plt.ylabel('loss')\n",
    "plt.xlabel('epoch')\n",
    "plt.legend(['train', 'validate'], loc='upper left')\n",
    "plt.show()\n",
    "\n",
    "# Training Accuracy vs Validation Accuracy\n",
    "plt.plot(res.history['acc'])\n",
    "plt.plot(res.history['val_acc'])\n",
    "plt.title('Model Accuracy')\n",
    "plt.ylabel('accuracy')\n",
    "plt.xlabel('epoch')\n",
    "plt.legend(['train', 'validate'], loc='upper left')\n",
    "plt.show()\n",
    "\n",
    "\n",
    "test_loss, test_accuracy = model.evaluate(X_test_1, Y_test_1, batch_size=100)\n",
    "\n",
    "test_prediction = model.predict(X_test_1)\n",
    "\n",
    "confusion_matrix = metrics.confusion_matrix(y_true=np.argmax(Y_test_1,axis=1), y_pred=np.argmax(test_prediction,axis=1))\n",
    "\n",
    "print(\"Test Loss:\", test_loss)\n",
    "print(\"Test Accuracy:\", test_accuracy)\n",
    "\n",
    "print(\"Confusion Matrix:\")\n",
    "print(confusion_matrix)\n",
    "\n",
    "plot_model(model, to_file='model_plot.png', show_shapes=True, show_layer_names=True)"
   ]
  },
  {
   "cell_type": "code",
   "execution_count": null,
   "metadata": {
    "colab": {
     "base_uri": "https://localhost:8080/",
     "height": 296
    },
    "colab_type": "code",
    "id": "SThMU3K8ZBvG",
    "outputId": "538dd21e-08fe-4ca9-c4dc-46ed67d5a570"
   },
   "outputs": [],
   "source": [
    "df_cm = pd.DataFrame(confusion_matrix, range(10), range(10))\n",
    "sn.set(font_scale=1.4)\n",
    "sn.heatmap(df_cm, annot_kws={\"size\": 16})# font size"
   ]
  },
  {
   "cell_type": "markdown",
   "metadata": {
    "colab_type": "text",
    "id": "R4z6TvsAwepW"
   },
   "source": [
    "## 3. Convolutional Neural Network Using Keras"
   ]
  },
  {
   "cell_type": "code",
   "execution_count": null,
   "metadata": {
    "colab": {
     "base_uri": "https://localhost:8080/",
     "height": 1000
    },
    "colab_type": "code",
    "id": "XgvGPTA_wepY",
    "outputId": "2aac8785-3bf4-497d-aef3-6f7993f88540",
    "scrolled": false
   },
   "outputs": [],
   "source": [
    "CNNmodel = Sequential()\n",
    "\n",
    "#1st Convolution Layer\n",
    "CNNmodel.add(Conv2D(32,  kernel_size=(5,5), padding=\"same\", input_shape=[28,28,1]))\n",
    "#1st MaxPool Layer\n",
    "CNNmodel.add(MaxPooling2D(pool_size=(2, 2)))\n",
    "\n",
    "#2nd Convolution Layer\n",
    "CNNmodel.add(Conv2D(64, kernel_size=(5,5), activation='sigmoid'))\n",
    "#2nd Maxpool Layer\n",
    "CNNmodel.add(MaxPooling2D(pool_size=(2, 2)))\n",
    "\n",
    "#3rd Convolution Layer\n",
    "CNNmodel.add(Conv2D(64, kernel_size=(3,3), activation='relu'))\n",
    "#3rd Maxpool Layer\n",
    "CNNmodel.add(MaxPooling2D(pool_size=(2, 2)))\n",
    "CNNmodel.add(Dropout(0.5))\n",
    "\n",
    " \n",
    "CNNmodel.add(Flatten())\n",
    "CNNmodel.add(Dense(1024, activation='relu'))\n",
    "CNNmodel.add(Dropout(0.5))\n",
    "CNNmodel.add(Dense(10, activation='softmax'))\n",
    "\n",
    "print(CNNmodel.summary())\n",
    "\n",
    "plot_model(CNNmodel, to_file='model_plot.png', show_shapes=True, show_layer_names=True)"
   ]
  },
  {
   "cell_type": "code",
   "execution_count": null,
   "metadata": {
    "colab": {
     "base_uri": "https://localhost:8080/",
     "height": 1000
    },
    "colab_type": "code",
    "id": "a0nBz8faMWqe",
    "outputId": "5fea2619-7e39-4f3b-9266-ed7a38197b3c"
   },
   "outputs": [],
   "source": [
    "#Training our CNN\n",
    "CNNmodel.compile(loss=keras.losses.categorical_crossentropy,\n",
    "              optimizer=keras.optimizers.SGD(lr=0.23),\n",
    "              metrics=['accuracy'])\n",
    "\n",
    "res = CNNmodel.fit(X1.reshape(X1.shape[0],28,28,1), Y1,\n",
    "          validation_split=0.10,\n",
    "          epochs=100,\n",
    "          batch_size=512)\n",
    "\n",
    "# Training Loss vs Validation Loss\n",
    "plt.plot(res.history['loss'])\n",
    "plt.plot(res.history['val_loss'])\n",
    "plt.title('model loss')\n",
    "plt.ylabel('loss')\n",
    "plt.xlabel('epoch')\n",
    "plt.legend(['train', 'validate'], loc='upper left')\n",
    "plt.show()\n",
    "\n",
    "# Training Accuracy vs Validation Accuracy\n",
    "plt.plot(res.history['acc'])\n",
    "plt.plot(res.history['val_acc'])\n",
    "plt.title('Model Accuracy')\n",
    "plt.ylabel('accuracy')\n",
    "plt.xlabel('epoch')\n",
    "plt.legend(['train', 'validate'], loc='upper left')\n",
    "plt.show()\n"
   ]
  },
  {
   "cell_type": "code",
   "execution_count": null,
   "metadata": {
    "colab": {
     "base_uri": "https://localhost:8080/",
     "height": 255
    },
    "colab_type": "code",
    "id": "uVZlS_E7ukrQ",
    "outputId": "305f03d4-928a-4e1b-e207-69f589b7e886"
   },
   "outputs": [],
   "source": [
    "\n",
    "test_loss, test_accuracy = CNNmodel.evaluate(X_test_1.reshape(X_test_1.shape[0],28,28,1), Y_test_1)\n",
    "print(\"Test Loss:\", test_loss)\n",
    "print(\"Test Accuracy\", test_accuracy)\n",
    "\n",
    "prediction = CNNmodel.predict_classes(X_test_1.reshape(X_test_1.shape[0],28,28,1))\n",
    "Confusion_matrix = metrics.confusion_matrix(y_true = np.argmax(Y_test_1,axis=1), y_pred = prediction)\n",
    "\n",
    "print(\"Confusion Matrix:\")\n",
    "print(Confusion_matrix)"
   ]
  },
  {
   "cell_type": "code",
   "execution_count": null,
   "metadata": {
    "colab": {
     "base_uri": "https://localhost:8080/",
     "height": 296
    },
    "colab_type": "code",
    "id": "w-1p1X_vZGbd",
    "outputId": "a3075c87-5415-4762-c301-b7a50312920b"
   },
   "outputs": [],
   "source": [
    "df_cm = pd.DataFrame(confusion_matrix, range(10), range(10))\n",
    "sn.set(font_scale=1.4)\n",
    "sn.heatmap(df_cm, annot_kws={\"size\": 16})# font size"
   ]
  },
  {
   "cell_type": "code",
   "execution_count": null,
   "metadata": {
    "colab": {},
    "colab_type": "code",
    "id": "LzADg26c1ZTs"
   },
   "outputs": [],
   "source": []
  }
 ],
 "metadata": {
  "accelerator": "GPU",
  "colab": {
   "collapsed_sections": [],
   "name": "MLProject2.ipynb",
   "provenance": []
  },
  "kernelspec": {
   "display_name": "Python 3",
   "language": "python",
   "name": "python3"
  },
  "language_info": {
   "codemirror_mode": {
    "name": "ipython",
    "version": 3
   },
   "file_extension": ".py",
   "mimetype": "text/x-python",
   "name": "python",
   "nbconvert_exporter": "python",
   "pygments_lexer": "ipython3",
   "version": "3.7.4"
  }
 },
 "nbformat": 4,
 "nbformat_minor": 1
}
